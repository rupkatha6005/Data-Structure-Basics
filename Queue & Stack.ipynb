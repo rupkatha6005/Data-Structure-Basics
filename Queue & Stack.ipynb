{
 "cells": [
  {
   "cell_type": "code",
   "execution_count": null,
   "id": "668b8330",
   "metadata": {},
   "outputs": [],
   "source": [
    "class Queue:\n",
    "    def __init__(self):\n",
    "        self.cir=[None]*8\n",
    "        self.front=2\n",
    "        self.size=0\n",
    "    def enqueue(self,element):\n",
    "        if self.cir[self.front]==None:\n",
    "            self.cir[self.front]=element\n",
    "        else:\n",
    "            rear=(self.front+self.size)%len(self.cir)\n",
    "            self.cir[rear+1]=element\n",
    "        self.size+=1\n",
    "        return self.cir\n",
    "    def dequeue(self):\n",
    "        if self.size==0:\n",
    "            raise Exception(\"No element in the Queue!\")\n",
    "        temp=self.cir[self.front]\n",
    "        self.cir[self.front]=None\n",
    "        self.size-=1\n",
    "        self.front+=1\n",
    "        if self.front==len(self.cir):\n",
    "            self.front=0\n",
    "        return temp\n",
    "    def peek(self):\n",
    "        if self.size==0:\n",
    "            raise Exception(\"No element in the Queue!\")\n",
    "        return self.cir[self.front]"
   ]
  },
  {
   "cell_type": "code",
   "execution_count": null,
   "id": "e296c8a5",
   "metadata": {},
   "outputs": [],
   "source": [
    "class Stack:\n",
    "    def __init__(self,string):\n",
    "        self.array=[None]*len(string)\n",
    "        self.top=None\n",
    "        self.str=string\n",
    "    def push(self,val):\n",
    "        if self.top==len(self.str)-1:\n",
    "            raise Exception(\"Stack Overflow\")\n",
    "        else:\n",
    "            if self.top==None:\n",
    "                self.top=0\n",
    "            else:\n",
    "                self.top+=1\n",
    "            self.array[self.top]=val\n",
    "    def peek(self):\n",
    "        if self.top==None:\n",
    "            raise Exception('Stack Underflow')\n",
    "        return self.array[self.top]\n",
    "    def pop(self):\n",
    "        if self.top==None:\n",
    "            raise Exception('Stack Underflow')\n",
    "        else:\n",
    "            temp=self.array[self.top]\n",
    "            self.array[self.top]=None\n",
    "            if self.top==0:\n",
    "                self.top=None\n",
    "            else:\n",
    "                self.top-=1\n",
    "            return temp\n",
    "        "
   ]
  }
 ],
 "metadata": {
  "kernelspec": {
   "display_name": "Python 3",
   "language": "python",
   "name": "python3"
  },
  "language_info": {
   "codemirror_mode": {
    "name": "ipython",
    "version": 3
   },
   "file_extension": ".py",
   "mimetype": "text/x-python",
   "name": "python",
   "nbconvert_exporter": "python",
   "pygments_lexer": "ipython3",
   "version": "3.8.8"
  }
 },
 "nbformat": 4,
 "nbformat_minor": 5
}
